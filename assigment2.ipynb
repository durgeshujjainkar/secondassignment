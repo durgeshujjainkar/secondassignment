{
 "cells": [
  {
   "cell_type": "code",
   "execution_count": 1,
   "metadata": {},
   "outputs": [
    {
     "name": "stdout",
     "output_type": "stream",
     "text": [
      "Sum: 10\n",
      "Difference: 0\n",
      "Product: 25\n",
      "Quotient: 1.0\n"
     ]
    }
   ],
   "source": [
    "# calculate the sum,difference,productand quotient of two number\n",
    "a = int(input(\"Enter the first number: \"))\n",
    "b = int(input(\"Enter the second number: \"))\n",
    "\n",
    "# Calculations\n",
    "sum = a + b\n",
    "difference = a - b\n",
    "product = a * b\n",
    "quotient = a / b\n",
    "\n",
    "print(\"Sum:\",sum)\n",
    "print(\"Difference:\", difference)\n",
    "print(\"Product:\", product)\n",
    "print(\"Quotient:\", quotient)\n"
   ]
  },
  {
   "cell_type": "code",
   "execution_count": 2,
   "metadata": {},
   "outputs": [
    {
     "name": "stdout",
     "output_type": "stream",
     "text": [
      "After addition : 15\n",
      "After subtraction : 3\n",
      "After multiplication: 30\n",
      "After division : 0.6\n",
      "After modulus: 0\n",
      "After floor divison 0\n"
     ]
    }
   ],
   "source": [
    "# perform various assigment operations on a variable\n",
    "a = 10\n",
    "b = 5\n",
    "\n",
    "# Addition\n",
    "a += b \n",
    "print(\"After addition :\", a)\n",
    "\n",
    "# Subtraction \n",
    "b -= 2  \n",
    "print(\"After subtraction :\", b)\n",
    "\n",
    "# Multiplication\n",
    "a *= 2  \n",
    "print(\"After multiplication:\", a)\n",
    "\n",
    "# Division \n",
    "b /= 5  \n",
    "print(\"After division :\", b)\n",
    "\n",
    "# Modulus \n",
    "a %= 6  \n",
    "print(\"After modulus:\", a)\n",
    "\n",
    "# Floor division \n",
    "a //= 3  \n",
    "print(\"After floor divison\", a)\n"
   ]
  },
  {
   "cell_type": "code",
   "execution_count": 3,
   "metadata": {},
   "outputs": [
    {
     "name": "stdout",
     "output_type": "stream",
     "text": [
      "5.0 is equal to 5.0.\n"
     ]
    }
   ],
   "source": [
    "# cpmpare 2 numbr and print the result\n",
    "num1 = float(input(\"Enter the first number: \"))\n",
    "num2 = float(input(\"Enter the second number: \"))\n",
    "\n",
    "\n",
    "if num1 > num2:\n",
    "    print(f\"{num1} is greater than {num2}.\")\n",
    "elif num1 < num2:\n",
    "    print(f\"{num1} is less than {num2}.\")\n",
    "else:\n",
    "    print(f\"{num1} is equal to {num2}.\")\n"
   ]
  },
  {
   "cell_type": "code",
   "execution_count": 4,
   "metadata": {},
   "outputs": [
    {
     "name": "stdout",
     "output_type": "stream",
     "text": [
      "Both numbers are positive.\n",
      "The numbers are not equal.\n"
     ]
    }
   ],
   "source": [
    "#check condition using logical operators\n",
    "\n",
    "num1 = float(input(\"Enter the first number: \"))\n",
    "num2 = float(input(\"Enter the second number: \"))\n",
    "\n",
    "# Check if both numbers are positive\n",
    "if num1 > 0 and num2 > 0:\n",
    "    print(\"Both numbers are positive.\")\n",
    "\n",
    "# Check if at least one number is zero\n",
    "if num1 == 0 or num2 == 0:\n",
    "    print(\"At least one number is zero.\")\n",
    "\n",
    "# Check if numbers are not equal\n",
    "if not (num1 == num2):\n",
    "    print(\"The numbers are not equal.\")\n",
    "else:\n",
    "    print(\"The numbers are equal.\")\n"
   ]
  },
  {
   "cell_type": "code",
   "execution_count": 5,
   "metadata": {},
   "outputs": [
    {
     "name": "stdout",
     "output_type": "stream",
     "text": [
      "Checking identity of variables:\n",
      "a is b: True\n",
      "a is c: False\n",
      "b is c: False\n"
     ]
    }
   ],
   "source": [
    "#check the identity of variables\n",
    "\n",
    "a = [1, 2, 3]\n",
    "b = a  \n",
    "c = [1, 2, 3]  \n",
    "\n",
    "print(\"Checking identity of variables:\")\n",
    "print(\"a is b:\", a is b)  \n",
    "print(\"a is c:\", a is c)  \n",
    "print(\"b is c:\", b is c)  \n"
   ]
  },
  {
   "cell_type": "code",
   "execution_count": 6,
   "metadata": {},
   "outputs": [
    {
     "name": "stdout",
     "output_type": "stream",
     "text": [
      "Bitwise AND (a & b): 4\n",
      "Bitwise OR (a | b): 5\n",
      "Bitwise XOR (a ^ b): 1\n",
      "Bitwise NOT (~a): -5\n",
      "Bitwise NOT (~b): -6\n",
      "Left Shift (a << 1): 8\n",
      "Right Shift (b >> 1): 2\n"
     ]
    }
   ],
   "source": [
    "#perform bitwise operations on any two integers\n",
    "\n",
    "\n",
    "a = int(input(\"Enter the first integer: \"))\n",
    "b = int(input(\"Enter the second integer: \"))\n",
    "\n",
    "\n",
    "bitwise_and = a & b           \n",
    "bitwise_or = a | b           \n",
    "bitwise_xor = a ^ b           \n",
    "bitwise_not_a = ~a            \n",
    "bitwise_not_b = ~b            \n",
    "bitwise_left_shift = a << 1   \n",
    "bitwise_right_shift = b >> 1  \n",
    "\n",
    "\n",
    "print(\"Bitwise AND (a & b):\", bitwise_and)\n",
    "print(\"Bitwise OR (a | b):\", bitwise_or)\n",
    "print(\"Bitwise XOR (a ^ b):\", bitwise_xor)\n",
    "print(\"Bitwise NOT (~a):\", bitwise_not_a)\n",
    "print(\"Bitwise NOT (~b):\", bitwise_not_b)\n",
    "print(\"Left Shift (a << 1):\", bitwise_left_shift)\n",
    "print(\"Right Shift (b >> 1):\", bitwise_right_shift)\n",
    "\n"
   ]
  },
  {
   "cell_type": "code",
   "execution_count": 1,
   "metadata": {},
   "outputs": [
    {
     "name": "stdout",
     "output_type": "stream",
     "text": [
      "The negated number is: -5\n"
     ]
    }
   ],
   "source": [
    "#use unary operator to change the sign of number\n",
    "\n",
    "a = int(input(\"Enter a number: \"))\n",
    "\n",
    "# Using the unary operator to change the sign\n",
    "negated_a = -a\n",
    "\n",
    "print(\"The negated number is:\", negated_a)\n"
   ]
  },
  {
   "cell_type": "code",
   "execution_count": 4,
   "metadata": {},
   "outputs": [
    {
     "name": "stdout",
     "output_type": "stream",
     "text": [
      "The number is: Odd\n"
     ]
    }
   ],
   "source": [
    "#use the ternary operator to assign values based on condition\n",
    "\n",
    "# Get user input\n",
    "a = int(input(\"Enter an integer: \"))\n",
    "\n",
    "# Use the ternary operator to determine if the number is even or odd\n",
    "result = \"Even\" if a % 2 == 0 else \"Odd\"\n",
    "\n",
    "# Display the result\n",
    "print(\"The number is:\", result)\n"
   ]
  }
 ],
 "metadata": {
  "kernelspec": {
   "display_name": "base",
   "language": "python",
   "name": "python3"
  },
  "language_info": {
   "codemirror_mode": {
    "name": "ipython",
    "version": 3
   },
   "file_extension": ".py",
   "mimetype": "text/x-python",
   "name": "python",
   "nbconvert_exporter": "python",
   "pygments_lexer": "ipython3",
   "version": "3.12.4"
  }
 },
 "nbformat": 4,
 "nbformat_minor": 2
}
